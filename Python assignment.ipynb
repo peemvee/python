{
 "cells": [
  {
   "cell_type": "code",
   "execution_count": 1,
   "id": "cae86c1b",
   "metadata": {},
   "outputs": [
    {
     "name": "stdout",
     "output_type": "stream",
     "text": [
      "Time difference between now and new year is 130 days, 7:44:59.661102\n"
     ]
    }
   ],
   "source": [
    "#1. Calculate the time difference between now and new year. (2 Marks)\n",
    "from datetime import datetime\n",
    "now = datetime.now()\n",
    "next_year = now.year + 1\n",
    "new_year = datetime(next_year, 1, 1)\n",
    "time_difference = new_year - now\n",
    "print(f\"Time difference between now and new year is {time_difference}\")"
   ]
  },
  {
   "cell_type": "code",
   "execution_count": 2,
   "id": "26d63a31",
   "metadata": {
    "scrolled": true
   },
   "outputs": [
    {
     "name": "stdout",
     "output_type": "stream",
     "text": [
      "Time difference between now and 1 january 1970 is 19958 days, 16:15:30.192294\n"
     ]
    }
   ],
   "source": [
    "#2. Calculate the time difference between 1 January 1970 and now. (2 Ma\n",
    "from datetime import datetime\n",
    "now = datetime.now()\n",
    "temp=datetime(1970,1,1)\n",
    "time_difference=now-temp\n",
    "print(f\"Time difference between now and 1 january 1970 is {time_difference}\")"
   ]
  },
  {
   "cell_type": "code",
   "execution_count": 4,
   "id": "97c750e3",
   "metadata": {},
   "outputs": [
    {
     "name": "stdout",
     "output_type": "stream",
     "text": [
      "0\n",
      "2\n",
      "4\n",
      "6\n",
      "8\n",
      "10\n",
      "12\n",
      "14\n",
      "16\n",
      "18\n",
      "20\n",
      "22\n",
      "24\n",
      "26\n",
      "28\n",
      "30\n",
      "32\n",
      "34\n",
      "36\n",
      "38\n",
      "40\n",
      "42\n",
      "44\n",
      "46\n",
      "48\n",
      "50\n",
      "52\n",
      "54\n",
      "56\n",
      "58\n",
      "60\n",
      "62\n",
      "64\n",
      "66\n",
      "68\n",
      "70\n",
      "72\n",
      "74\n",
      "76\n",
      "78\n",
      "80\n",
      "82\n",
      "84\n",
      "86\n",
      "88\n",
      "90\n",
      "92\n",
      "94\n",
      "96\n",
      "98\n",
      "100\n"
     ]
    }
   ],
   "source": [
    "#3. Write a Python program that prints all the even numbers between 1 and 100 \n",
    "#(inclusive) using a loop. Ensure that the program uses a for loop to achieve this.\n",
    "for i in range(101):\n",
    " if i%2==0:\n",
    "     print(i)"
   ]
  },
  {
   "cell_type": "code",
   "execution_count": 1,
   "id": "6ad3aeeb",
   "metadata": {},
   "outputs": [
    {
     "name": "stdout",
     "output_type": "stream",
     "text": [
      "Sum of even numbers is 2550\n",
      "Sum of odd numbers is 2500\n"
     ]
    }
   ],
   "source": [
    "#4. Use for loop to iterate from 0 to 100 and print the sum of all evens and the sum of \n",
    "#all odds. (2 marks)\n",
    "sum_of_odd=0\n",
    "sum_of_even=0\n",
    "for i in range(101):\n",
    " if i%2==0:\n",
    "     sum_of_even+=i\n",
    " else:\n",
    "     sum_of_odd+=i\n",
    "print(f'Sum of even numbers is {sum_of_even}')\n",
    "print(f'Sum of odd numbers is {sum_of_odd}')"
   ]
  },
  {
   "cell_type": "code",
   "execution_count": 5,
   "id": "d7016173",
   "metadata": {},
   "outputs": [
    {
     "name": "stdout",
     "output_type": "stream",
     "text": [
      "Enter any string: number of vowels in alphabets is five\n",
      "Number of vowels in the given word is 12\n"
     ]
    }
   ],
   "source": [
    "#5.Write a Python program that asks the user for a string and then counts the number \n",
    "#of vowels (a, e, i, o, u) in that string using a for loop. The program should output the \n",
    "#total count of vowels in the string. (2 Marks)\n",
    "vowels=['a','e','i','o','u']\n",
    "string=str(input('Enter any string: ')).lower()\n",
    "num_of_vowles=0\n",
    "for i in string:\n",
    " if i in vowels:\n",
    "     num_of_vowles=num_of_vowles+1\n",
    "print(f'Number of vowels in the given word is {num_of_vowles}')"
   ]
  },
  {
   "cell_type": "code",
   "execution_count": 3,
   "id": "3ad170de",
   "metadata": {},
   "outputs": [
    {
     "name": "stdout",
     "output_type": "stream",
     "text": [
      "Enter a number or done: 5\n",
      "Enter a number or done: 6\n",
      "Enter a number or done: done\n",
      "The sum of given list of numbers is 11\n"
     ]
    }
   ],
   "source": [
    "#6.Develop a Python program that prompts the user to enter a list of numbers, one at \n",
    "# a time. The program should use a while loop to keep asking for numbers until the \n",
    "# user enters 'done'. Once 'done' is entered, the program should print the sum of all \n",
    "# the entered numbers. (2 marks)\n",
    "value=''\n",
    "sum=0\n",
    "while value!='done':\n",
    "    value=input('Enter a number or done: ')\n",
    "    if value!='done':\n",
    "        sum=sum+int(value)\n",
    "print(f'The sum of given list of numbers is {sum}')"
   ]
  },
  {
   "cell_type": "code",
   "execution_count": 5,
   "id": "da66d55b",
   "metadata": {},
   "outputs": [
    {
     "name": "stdout",
     "output_type": "stream",
     "text": [
      "Enter any number: 321\n",
      "321 * 1 = 321\n",
      "321 * 2 = 642\n",
      "321 * 3 = 963\n",
      "321 * 4 = 1284\n",
      "321 * 5 = 1605\n",
      "321 * 6 = 1926\n",
      "321 * 7 = 2247\n",
      "321 * 8 = 2568\n",
      "321 * 9 = 2889\n",
      "321 * 10 = 3210\n"
     ]
    }
   ],
   "source": [
    "#7. Write a Python program that takes an integer input from the user and prints out the \n",
    "# multiplication table for that number up to 10 using a for loop. (4 Marks)\n",
    "num=int(input('Enter any number: '))\n",
    "for i in range(1,11):\n",
    "    print(f'{num} * {i} = {num*i}')"
   ]
  },
  {
   "cell_type": "code",
   "execution_count": 11,
   "id": "8de5a5d0",
   "metadata": {},
   "outputs": [
    {
     "name": "stdout",
     "output_type": "stream",
     "text": [
      "Enter any number: 12\n",
      "The factorial of 12 is 479001600\n"
     ]
    }
   ],
   "source": [
    "# 8. Create a Python program that calculates the factorial of a given positive integer \n",
    "# using a while loop. The program should prompt the user to enter the integer, and \n",
    "# then display the factorial of that number. (4 Marks)\n",
    "num=int(input('Enter any number: '))\n",
    "product=1\n",
    "i=1\n",
    "while num>=i:\n",
    "    product*=i\n",
    "    i+=1\n",
    "print(f'The factorial of {num} is {product}')"
   ]
  }
 ],
 "metadata": {
  "kernelspec": {
   "display_name": "Python 3 (ipykernel)",
   "language": "python",
   "name": "python3"
  },
  "language_info": {
   "codemirror_mode": {
    "name": "ipython",
    "version": 3
   },
   "file_extension": ".py",
   "mimetype": "text/x-python",
   "name": "python",
   "nbconvert_exporter": "python",
   "pygments_lexer": "ipython3",
   "version": "3.8.8"
  }
 },
 "nbformat": 4,
 "nbformat_minor": 5
}
