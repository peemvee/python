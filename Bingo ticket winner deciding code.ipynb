{
 "cells": [
  {
   "cell_type": "code",
   "execution_count": 7,
   "id": "34c9322e",
   "metadata": {},
   "outputs": [
    {
     "name": "stdout",
     "output_type": "stream",
     "text": [
      "The least costly result is: 0\n"
     ]
    }
   ],
   "source": [
    "# Let's modify the model to accept input values as you've described and then calculate the least costly result.\n",
    "\n",
    "class BettingGame:\n",
    "    def __init__(self):\n",
    "        # Initialize bets with default values\n",
    "        self.bets = {\n",
    "            \"green\": 0,\n",
    "            \"red\": 0,\n",
    "            \"violet\": 0,\n",
    "            **{str(number): 0 for number in range(10)}  # Initialize number bets to 0\n",
    "        }\n",
    "\n",
    "    def calculate_total_payout(self, result):\n",
    "        payouts = {\n",
    "            \"green\": 2 * self.bets[\"green\"] if result in [1, 3, 7, 9] else 1.5 * self.bets[\"green\"] if result == 5 else 0,\n",
    "            \"red\": 2 * self.bets[\"red\"] if result in [2, 4, 6, 8] else 1.5 * self.bets[\"red\"] if result == 0 else 0,\n",
    "            \"violet\": 4.5 * self.bets[\"violet\"] if result in [0, 5] else 0,\n",
    "        }\n",
    "        number_payout = 9 * self.bets[str(result)]\n",
    "        return sum(payouts.values()) + number_payout\n",
    "\n",
    "    def find_least_costly_result(self):\n",
    "        least_cost = float('inf')\n",
    "        least_cost_result = 0\n",
    "\n",
    "        for result in range(10):\n",
    "            total_payout = self.calculate_total_payout(result)\n",
    "            if total_payout < least_cost:\n",
    "                least_cost = total_payout\n",
    "                least_cost_result = result\n",
    "\n",
    "        return least_cost_result\n",
    "\n",
    "    def set_bets(self, bets):\n",
    "        for category, amount in bets.items():\n",
    "            if category in self.bets:\n",
    "                self.bets[category] = amount\n",
    "            else:\n",
    "                print(f\"Invalid category: {category}. Categories are 'green', 'red', 'violet', and '0'-'9'.\")\n",
    "\n",
    "# Using the model with your provided input values\n",
    "game = BettingGame()\n",
    "\n",
    "input_bets = {\n",
    "    \"red\": 200,\n",
    "    \"green\": 300,\n",
    "    \"violet\": 20,\n",
    "    \"0\": 7,\n",
    "    \"1\": 1,\n",
    "    \"2\": 6,\n",
    "    \"3\": 12,\n",
    "    \"4\": 6,\n",
    "    \"5\": 4,\n",
    "    \"6\": 12,\n",
    "    \"7\": 3,\n",
    "    \"8\": 6,\n",
    "    \"9\": 22\n",
    "}\n",
    "\n",
    "\n",
    "\n",
    "game.set_bets(input_bets)\n",
    "\n",
    "# Calculate the least costly result\n",
    "least_costly_result = game.find_least_costly_result()\n",
    "print(f\"The least costly result is: {least_costly_result}\")"
   ]
  },
  {
   "cell_type": "code",
   "execution_count": null,
   "id": "49d1beab",
   "metadata": {},
   "outputs": [],
   "source": []
  }
 ],
 "metadata": {
  "kernelspec": {
   "display_name": "Python 3 (ipykernel)",
   "language": "python",
   "name": "python3"
  },
  "language_info": {
   "codemirror_mode": {
    "name": "ipython",
    "version": 3
   },
   "file_extension": ".py",
   "mimetype": "text/x-python",
   "name": "python",
   "nbconvert_exporter": "python",
   "pygments_lexer": "ipython3",
   "version": "3.8.8"
  }
 },
 "nbformat": 4,
 "nbformat_minor": 5
}
